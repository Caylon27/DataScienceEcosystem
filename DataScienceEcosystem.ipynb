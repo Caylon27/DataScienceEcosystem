{
 "cells": [
  {
   "cell_type": "markdown",
   "id": "606b0b13-b771-4464-b238-1066e74e6d33",
   "metadata": {},
   "source": [
    "# Data Science Tools and Ecosystem\n"
   ]
  },
  {
   "cell_type": "markdown",
   "id": "7f3e7db8-b334-4fb4-bde1-a1af1519674b",
   "metadata": {},
   "source": [
    "In this notebook, Data Science Tools and Ecosystem are summarized.\n"
   ]
  },
  {
   "cell_type": "markdown",
   "id": "de80c296-47ea-4a0c-b754-0bbd1dd0f835",
   "metadata": {},
   "source": [
    "Some of the popular languages that Data Scientists use are:\r\n",
    "1. Python\r\n",
    "2. R\r\n",
    "3. QL\r\n"
   ]
  },
  {
   "cell_type": "markdown",
   "id": "6139c9d0-8fce-4759-a4c8-f82108c1abda",
   "metadata": {},
   "source": [
    "Some of the commonly used libraries used by Data Scientists include:\r\n",
    "1. NumPy\r\n",
    "2. Pandas\r\n",
    "3. Matplotib\r\n"
   ]
  },
  {
   "cell_type": "markdown",
   "id": "661346cd-9eac-49f8-807b-9897512ac0d3",
   "metadata": {},
   "source": [
    "| Data Science Tools |\r\n",
    "|--------------------|\r\n",
    "| Jupyter Notebook   |\r\n",
    "| RStudio            |\r\n",
    "| Apache Zeppelin   |\r\n"
   ]
  },
  {
   "cell_type": "markdown",
   "id": "94a6d960-b1cf-464e-bf2e-a1670ace2923",
   "metadata": {},
   "source": [
    "### Below are a few examples of evaluating arithmetic expressions in Python.\n"
   ]
  },
  {
   "cell_type": "code",
   "execution_count": null,
   "id": "aa121f74-6e9d-48f7-9814-7cfaebfcc986",
   "metadata": {},
   "outputs": [],
   "source": [
    "# This a simple arithmetic expression to multiply then add integers\n",
    "(3*4)+5"
   ]
  },
  {
   "cell_type": "code",
   "execution_count": null,
   "id": "47dc1217-001f-4736-a2e3-2182cb646af5",
   "metadata": {},
   "outputs": [],
   "source": [
    "# This will convert 200 minutes to hours by dividing by 60\n",
    "200 / 60"
   ]
  },
  {
   "cell_type": "markdown",
   "id": "47ad8530-e76a-4d6a-83fd-05b31adff243",
   "metadata": {},
   "source": [
    "**Objectives:**\n",
    "- List popular languages for Data Science\n",
    "- List commonly used libraries in Data Science\n",
    "- Demonstrate arithmetic operations in Python"
   ]
  },
  {
   "cell_type": "markdown",
   "id": "bd054a0a-8370-46d4-8647-483077d0bb14",
   "metadata": {},
   "source": [
    "## Author\r",
    "Caylon Alonzo\r\n"
   ]
  }
 ],
 "metadata": {
  "kernelspec": {
   "display_name": "Python 3 (ipykernel)",
   "language": "python",
   "name": "python3"
  },
  "language_info": {
   "codemirror_mode": {
    "name": "ipython",
    "version": 3
   },
   "file_extension": ".py",
   "mimetype": "text/x-python",
   "name": "python",
   "nbconvert_exporter": "python",
   "pygments_lexer": "ipython3",
   "version": "3.11.7"
  }
 },
 "nbformat": 4,
 "nbformat_minor": 5
}
